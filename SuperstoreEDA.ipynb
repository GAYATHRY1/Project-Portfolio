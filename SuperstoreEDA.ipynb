{
 "cells": [
  {
   "cell_type": "markdown",
   "id": "be8a2212",
   "metadata": {},
   "source": [
    "# THE SPARKS FOUNDATION\n",
    "# DATA SCIENCE AND BUSINESS ANALYTICS INTERN\n",
    "# TASK-3 EXPLORATORY DATA ANALYSIS-RETAIL\n",
    "# AUTHOR-GAYATHRY DEVI LOGESWARAN"
   ]
  },
  {
   "cell_type": "code",
   "execution_count": 1,
   "id": "e73fc0c1",
   "metadata": {},
   "outputs": [
    {
     "data": {
      "text/html": [
       "<div>\n",
       "<style scoped>\n",
       "    .dataframe tbody tr th:only-of-type {\n",
       "        vertical-align: middle;\n",
       "    }\n",
       "\n",
       "    .dataframe tbody tr th {\n",
       "        vertical-align: top;\n",
       "    }\n",
       "\n",
       "    .dataframe thead th {\n",
       "        text-align: right;\n",
       "    }\n",
       "</style>\n",
       "<table border=\"1\" class=\"dataframe\">\n",
       "  <thead>\n",
       "    <tr style=\"text-align: right;\">\n",
       "      <th></th>\n",
       "      <th>Ship Mode</th>\n",
       "      <th>Segment</th>\n",
       "      <th>Country</th>\n",
       "      <th>City</th>\n",
       "      <th>State</th>\n",
       "      <th>Postal Code</th>\n",
       "      <th>Region</th>\n",
       "      <th>Category</th>\n",
       "      <th>Sub-Category</th>\n",
       "      <th>Sales</th>\n",
       "      <th>Quantity</th>\n",
       "      <th>Discount</th>\n",
       "      <th>Profit</th>\n",
       "    </tr>\n",
       "  </thead>\n",
       "  <tbody>\n",
       "    <tr>\n",
       "      <th>0</th>\n",
       "      <td>Second Class</td>\n",
       "      <td>Consumer</td>\n",
       "      <td>United States</td>\n",
       "      <td>Henderson</td>\n",
       "      <td>Kentucky</td>\n",
       "      <td>42420</td>\n",
       "      <td>South</td>\n",
       "      <td>Furniture</td>\n",
       "      <td>Bookcases</td>\n",
       "      <td>261.9600</td>\n",
       "      <td>2</td>\n",
       "      <td>0.00</td>\n",
       "      <td>41.9136</td>\n",
       "    </tr>\n",
       "    <tr>\n",
       "      <th>1</th>\n",
       "      <td>Second Class</td>\n",
       "      <td>Consumer</td>\n",
       "      <td>United States</td>\n",
       "      <td>Henderson</td>\n",
       "      <td>Kentucky</td>\n",
       "      <td>42420</td>\n",
       "      <td>South</td>\n",
       "      <td>Furniture</td>\n",
       "      <td>Chairs</td>\n",
       "      <td>731.9400</td>\n",
       "      <td>3</td>\n",
       "      <td>0.00</td>\n",
       "      <td>219.5820</td>\n",
       "    </tr>\n",
       "    <tr>\n",
       "      <th>2</th>\n",
       "      <td>Second Class</td>\n",
       "      <td>Corporate</td>\n",
       "      <td>United States</td>\n",
       "      <td>Los Angeles</td>\n",
       "      <td>California</td>\n",
       "      <td>90036</td>\n",
       "      <td>West</td>\n",
       "      <td>Office Supplies</td>\n",
       "      <td>Labels</td>\n",
       "      <td>14.6200</td>\n",
       "      <td>2</td>\n",
       "      <td>0.00</td>\n",
       "      <td>6.8714</td>\n",
       "    </tr>\n",
       "    <tr>\n",
       "      <th>3</th>\n",
       "      <td>Standard Class</td>\n",
       "      <td>Consumer</td>\n",
       "      <td>United States</td>\n",
       "      <td>Fort Lauderdale</td>\n",
       "      <td>Florida</td>\n",
       "      <td>33311</td>\n",
       "      <td>South</td>\n",
       "      <td>Furniture</td>\n",
       "      <td>Tables</td>\n",
       "      <td>957.5775</td>\n",
       "      <td>5</td>\n",
       "      <td>0.45</td>\n",
       "      <td>-383.0310</td>\n",
       "    </tr>\n",
       "    <tr>\n",
       "      <th>4</th>\n",
       "      <td>Standard Class</td>\n",
       "      <td>Consumer</td>\n",
       "      <td>United States</td>\n",
       "      <td>Fort Lauderdale</td>\n",
       "      <td>Florida</td>\n",
       "      <td>33311</td>\n",
       "      <td>South</td>\n",
       "      <td>Office Supplies</td>\n",
       "      <td>Storage</td>\n",
       "      <td>22.3680</td>\n",
       "      <td>2</td>\n",
       "      <td>0.20</td>\n",
       "      <td>2.5164</td>\n",
       "    </tr>\n",
       "  </tbody>\n",
       "</table>\n",
       "</div>"
      ],
      "text/plain": [
       "        Ship Mode    Segment        Country             City       State  \\\n",
       "0    Second Class   Consumer  United States        Henderson    Kentucky   \n",
       "1    Second Class   Consumer  United States        Henderson    Kentucky   \n",
       "2    Second Class  Corporate  United States      Los Angeles  California   \n",
       "3  Standard Class   Consumer  United States  Fort Lauderdale     Florida   \n",
       "4  Standard Class   Consumer  United States  Fort Lauderdale     Florida   \n",
       "\n",
       "   Postal Code Region         Category Sub-Category     Sales  Quantity  \\\n",
       "0        42420  South        Furniture    Bookcases  261.9600         2   \n",
       "1        42420  South        Furniture       Chairs  731.9400         3   \n",
       "2        90036   West  Office Supplies       Labels   14.6200         2   \n",
       "3        33311  South        Furniture       Tables  957.5775         5   \n",
       "4        33311  South  Office Supplies      Storage   22.3680         2   \n",
       "\n",
       "   Discount    Profit  \n",
       "0      0.00   41.9136  \n",
       "1      0.00  219.5820  \n",
       "2      0.00    6.8714  \n",
       "3      0.45 -383.0310  \n",
       "4      0.20    2.5164  "
      ]
     },
     "execution_count": 1,
     "metadata": {},
     "output_type": "execute_result"
    }
   ],
   "source": [
    "# Well, first things first. We will load the Superstore dataset into python to perform EDA.\n",
    "#Load the required libraries\n",
    "import pandas as pd\n",
    "import numpy as np\n",
    "import seaborn as sns\n",
    "import matplotlib.pyplot as plt\n",
    "\n",
    "import warnings\n",
    "warnings.filterwarnings('ignore')\n",
    "\n",
    "#Load the data\n",
    "df = pd.read_csv(\"C:/Users/39375/Desktop/Gayu/VIRTUAL INTERNSHIP/Spark foundation/SampleSuperstore.csv\")\n",
    "\n",
    "\n",
    "#View the data\n",
    "df.head()"
   ]
  },
  {
   "cell_type": "markdown",
   "id": "2b313b3f",
   "metadata": {},
   "source": [
    "#  Basic information about data - EDA\n",
    "\n",
    "The df.info() function will give us the basic information about the dataset. For any data, it is good to start by knowing its information. Let’s see how it works with our data."
   ]
  },
  {
   "cell_type": "code",
   "execution_count": 2,
   "id": "3c4a88ab",
   "metadata": {
    "scrolled": true
   },
   "outputs": [
    {
     "name": "stdout",
     "output_type": "stream",
     "text": [
      "<class 'pandas.core.frame.DataFrame'>\n",
      "RangeIndex: 9994 entries, 0 to 9993\n",
      "Data columns (total 13 columns):\n",
      " #   Column        Non-Null Count  Dtype  \n",
      "---  ------        --------------  -----  \n",
      " 0   Ship Mode     9994 non-null   object \n",
      " 1   Segment       9994 non-null   object \n",
      " 2   Country       9994 non-null   object \n",
      " 3   City          9994 non-null   object \n",
      " 4   State         9994 non-null   object \n",
      " 5   Postal Code   9994 non-null   int64  \n",
      " 6   Region        9994 non-null   object \n",
      " 7   Category      9994 non-null   object \n",
      " 8   Sub-Category  9994 non-null   object \n",
      " 9   Sales         9994 non-null   float64\n",
      " 10  Quantity      9994 non-null   int64  \n",
      " 11  Discount      9994 non-null   float64\n",
      " 12  Profit        9994 non-null   float64\n",
      "dtypes: float64(3), int64(2), object(8)\n",
      "memory usage: 1015.1+ KB\n"
     ]
    },
    {
     "data": {
      "text/html": [
       "<div>\n",
       "<style scoped>\n",
       "    .dataframe tbody tr th:only-of-type {\n",
       "        vertical-align: middle;\n",
       "    }\n",
       "\n",
       "    .dataframe tbody tr th {\n",
       "        vertical-align: top;\n",
       "    }\n",
       "\n",
       "    .dataframe thead th {\n",
       "        text-align: right;\n",
       "    }\n",
       "</style>\n",
       "<table border=\"1\" class=\"dataframe\">\n",
       "  <thead>\n",
       "    <tr style=\"text-align: right;\">\n",
       "      <th></th>\n",
       "      <th>Postal Code</th>\n",
       "      <th>Sales</th>\n",
       "      <th>Quantity</th>\n",
       "      <th>Discount</th>\n",
       "      <th>Profit</th>\n",
       "    </tr>\n",
       "  </thead>\n",
       "  <tbody>\n",
       "    <tr>\n",
       "      <th>count</th>\n",
       "      <td>9994.000000</td>\n",
       "      <td>9994.000000</td>\n",
       "      <td>9994.000000</td>\n",
       "      <td>9994.000000</td>\n",
       "      <td>9994.000000</td>\n",
       "    </tr>\n",
       "    <tr>\n",
       "      <th>mean</th>\n",
       "      <td>55190.379428</td>\n",
       "      <td>229.858001</td>\n",
       "      <td>3.789574</td>\n",
       "      <td>0.156203</td>\n",
       "      <td>28.656896</td>\n",
       "    </tr>\n",
       "    <tr>\n",
       "      <th>std</th>\n",
       "      <td>32063.693350</td>\n",
       "      <td>623.245101</td>\n",
       "      <td>2.225110</td>\n",
       "      <td>0.206452</td>\n",
       "      <td>234.260108</td>\n",
       "    </tr>\n",
       "    <tr>\n",
       "      <th>min</th>\n",
       "      <td>1040.000000</td>\n",
       "      <td>0.444000</td>\n",
       "      <td>1.000000</td>\n",
       "      <td>0.000000</td>\n",
       "      <td>-6599.978000</td>\n",
       "    </tr>\n",
       "    <tr>\n",
       "      <th>25%</th>\n",
       "      <td>23223.000000</td>\n",
       "      <td>17.280000</td>\n",
       "      <td>2.000000</td>\n",
       "      <td>0.000000</td>\n",
       "      <td>1.728750</td>\n",
       "    </tr>\n",
       "    <tr>\n",
       "      <th>50%</th>\n",
       "      <td>56430.500000</td>\n",
       "      <td>54.490000</td>\n",
       "      <td>3.000000</td>\n",
       "      <td>0.200000</td>\n",
       "      <td>8.666500</td>\n",
       "    </tr>\n",
       "    <tr>\n",
       "      <th>75%</th>\n",
       "      <td>90008.000000</td>\n",
       "      <td>209.940000</td>\n",
       "      <td>5.000000</td>\n",
       "      <td>0.200000</td>\n",
       "      <td>29.364000</td>\n",
       "    </tr>\n",
       "    <tr>\n",
       "      <th>max</th>\n",
       "      <td>99301.000000</td>\n",
       "      <td>22638.480000</td>\n",
       "      <td>14.000000</td>\n",
       "      <td>0.800000</td>\n",
       "      <td>8399.976000</td>\n",
       "    </tr>\n",
       "  </tbody>\n",
       "</table>\n",
       "</div>"
      ],
      "text/plain": [
       "        Postal Code         Sales     Quantity     Discount       Profit\n",
       "count   9994.000000   9994.000000  9994.000000  9994.000000  9994.000000\n",
       "mean   55190.379428    229.858001     3.789574     0.156203    28.656896\n",
       "std    32063.693350    623.245101     2.225110     0.206452   234.260108\n",
       "min     1040.000000      0.444000     1.000000     0.000000 -6599.978000\n",
       "25%    23223.000000     17.280000     2.000000     0.000000     1.728750\n",
       "50%    56430.500000     54.490000     3.000000     0.200000     8.666500\n",
       "75%    90008.000000    209.940000     5.000000     0.200000    29.364000\n",
       "max    99301.000000  22638.480000    14.000000     0.800000  8399.976000"
      ]
     },
     "execution_count": 2,
     "metadata": {},
     "output_type": "execute_result"
    }
   ],
   "source": [
    "#Basic information\n",
    "\n",
    "df.info()\n",
    "\n",
    "#Describe the data\n",
    "\n",
    "df.describe()"
   ]
  },
  {
   "cell_type": "markdown",
   "id": "12e5faae",
   "metadata": {},
   "source": [
    "Using this function, you can see the number of null values, datatypes, and memory usage as shown in the above outputs along with descriptive statistics."
   ]
  },
  {
   "cell_type": "markdown",
   "id": "2ff4d2b6",
   "metadata": {},
   "source": [
    "# Duplicate values\n",
    "\n",
    "You can use the df.duplicate.sum() function to the sum of duplicate value present if any. It will show the number of duplicate values if they are present in the data."
   ]
  },
  {
   "cell_type": "code",
   "execution_count": 3,
   "id": "ee6cb737",
   "metadata": {},
   "outputs": [
    {
     "data": {
      "text/plain": [
       "17"
      ]
     },
     "execution_count": 3,
     "metadata": {},
     "output_type": "execute_result"
    }
   ],
   "source": [
    "#Find the duplicates\n",
    "\n",
    "df.duplicated().sum()"
   ]
  },
  {
   "cell_type": "markdown",
   "id": "ccc906de",
   "metadata": {},
   "source": [
    "The output is greater than 0, it means there are duplicate rows in the DataFrame."
   ]
  },
  {
   "cell_type": "code",
   "execution_count": 4,
   "id": "c433eedc",
   "metadata": {},
   "outputs": [],
   "source": [
    "# Remove duplicates from DataFrame\n",
    "df.drop_duplicates(inplace=True)\n"
   ]
  },
  {
   "cell_type": "markdown",
   "id": "3c8f15d2",
   "metadata": {},
   "source": [
    "This will remove all duplicate rows from the DataFrame df and modify it in place (i.e., the changes will be saved to the original DataFrame)."
   ]
  },
  {
   "cell_type": "code",
   "execution_count": 5,
   "id": "700f8c8e",
   "metadata": {},
   "outputs": [
    {
     "data": {
      "text/plain": [
       "0"
      ]
     },
     "execution_count": 5,
     "metadata": {},
     "output_type": "execute_result"
    }
   ],
   "source": [
    "#Recheck the duplicates\n",
    "\n",
    "df.duplicated().sum()"
   ]
  },
  {
   "cell_type": "markdown",
   "id": "c3239186",
   "metadata": {},
   "source": [
    "Well, the function returned ‘0’. This means, there is not a single duplicate value present in our dataset and it is a very good thing to know."
   ]
  },
  {
   "cell_type": "markdown",
   "id": "7311e716",
   "metadata": {},
   "source": [
    "#  Unique values in the data\n",
    "\n",
    "You can find the number of unique values in the particular column using unique() function in python."
   ]
  },
  {
   "cell_type": "code",
   "execution_count": 6,
   "id": "d6fed7db",
   "metadata": {},
   "outputs": [
    {
     "data": {
      "text/plain": [
       "array(['Bookcases', 'Chairs', 'Labels', 'Tables', 'Storage',\n",
       "       'Furnishings', 'Art', 'Phones', 'Binders', 'Appliances', 'Paper',\n",
       "       'Accessories', 'Envelopes', 'Fasteners', 'Supplies', 'Machines',\n",
       "       'Copiers'], dtype=object)"
      ]
     },
     "execution_count": 6,
     "metadata": {},
     "output_type": "execute_result"
    }
   ],
   "source": [
    "#unique values\n",
    "\n",
    "df['Ship Mode'].unique()\n",
    "\n",
    "df['Segment'].unique()\n",
    "\n",
    "df['Country'].unique()\n",
    "\n",
    "df['Region'].unique()\n",
    "\n",
    "df['Category'].unique()\n",
    "\n",
    "df['Sub-Category'].unique()"
   ]
  },
  {
   "cell_type": "markdown",
   "id": "4dab1609",
   "metadata": {},
   "source": [
    "The unique() function has returned the unique values which are present in the data and it is pretty much cool!"
   ]
  },
  {
   "cell_type": "markdown",
   "id": "33ec0599",
   "metadata": {},
   "source": [
    "# Find the Null values\n",
    "\n",
    "Finding the null values is the most important step in the EDA. As I told many a time, ensuring the quality of data is paramount. So, let’s see how we can find the null values"
   ]
  },
  {
   "cell_type": "code",
   "execution_count": 7,
   "id": "d595ee03",
   "metadata": {},
   "outputs": [
    {
     "data": {
      "text/plain": [
       "Ship Mode       0\n",
       "Segment         0\n",
       "Country         0\n",
       "City            0\n",
       "State           0\n",
       "Postal Code     0\n",
       "Region          0\n",
       "Category        0\n",
       "Sub-Category    0\n",
       "Sales           0\n",
       "Quantity        0\n",
       "Discount        0\n",
       "Profit          0\n",
       "dtype: int64"
      ]
     },
     "execution_count": 7,
     "metadata": {},
     "output_type": "execute_result"
    }
   ],
   "source": [
    "#Find null values\n",
    "\n",
    "df.isnull().sum()"
   ]
  },
  {
   "cell_type": "markdown",
   "id": "a8797971",
   "metadata": {},
   "source": [
    "Whoo! That’s awesome.There is no null values"
   ]
  },
  {
   "cell_type": "markdown",
   "id": "0d06bef4",
   "metadata": {},
   "source": [
    "# Know the datatypes\n",
    "\n",
    "Knowing the datatypes which you are exploring is very important and an easy process too. Let’s see how it works."
   ]
  },
  {
   "cell_type": "code",
   "execution_count": 8,
   "id": "6afb76f2",
   "metadata": {},
   "outputs": [
    {
     "data": {
      "text/plain": [
       "Ship Mode        object\n",
       "Segment          object\n",
       "Country          object\n",
       "City             object\n",
       "State            object\n",
       "Postal Code       int64\n",
       "Region           object\n",
       "Category         object\n",
       "Sub-Category     object\n",
       "Sales           float64\n",
       "Quantity          int64\n",
       "Discount        float64\n",
       "Profit          float64\n",
       "dtype: object"
      ]
     },
     "execution_count": 8,
     "metadata": {},
     "output_type": "execute_result"
    }
   ],
   "source": [
    "#Datatypes\n",
    "\n",
    "df.dtypes"
   ]
  },
  {
   "cell_type": "markdown",
   "id": "b7a1a70d",
   "metadata": {},
   "source": [
    "That’s it. You have to use the dtypes function for this a shown and you will get the datatypes of each attribute."
   ]
  },
  {
   "cell_type": "markdown",
   "id": "1aade7e2",
   "metadata": {},
   "source": [
    "# Drop the unwanted columns\n",
    "Here, in the country column all the country refers to United States. So, we drop that ."
   ]
  },
  {
   "cell_type": "code",
   "execution_count": 9,
   "id": "341e01f1",
   "metadata": {},
   "outputs": [],
   "source": [
    "df.drop('Country',axis=1,inplace=True)\n",
    "df.drop('Postal Code',axis=1,inplace=True)"
   ]
  },
  {
   "cell_type": "code",
   "execution_count": 10,
   "id": "94d66397",
   "metadata": {},
   "outputs": [
    {
     "data": {
      "text/plain": [
       "Index(['Ship Mode', 'Segment', 'City', 'State', 'Region', 'Category',\n",
       "       'Sub-Category', 'Sales', 'Quantity', 'Discount', 'Profit'],\n",
       "      dtype='object')"
      ]
     },
     "execution_count": 10,
     "metadata": {},
     "output_type": "execute_result"
    }
   ],
   "source": [
    "#To check once again the columns\n",
    "df.columns"
   ]
  },
  {
   "cell_type": "markdown",
   "id": "f16a61e7",
   "metadata": {},
   "source": [
    "#  Visualize the Unique counts\n",
    "\n",
    "Yes, you can visualize the unique values present in the data. For this, we will be using the seaborn library. You have to call the sns.countlot() function and specify the variable to plot the count plot."
   ]
  },
  {
   "cell_type": "code",
   "execution_count": 11,
   "id": "23a6b8c9",
   "metadata": {},
   "outputs": [
    {
     "data": {
      "image/png": "[encoded data removed]",
      "text/plain": [
       "<Figure size 1000x800 with 4 Axes>"
      ]
     },
     "metadata": {},
     "output_type": "display_data"
    }
   ],
   "source": [
    "fig,axs=plt.subplots(nrows=2,ncols=2,figsize=(10,8));\n",
    "\n",
    "sns.countplot(df['Category'],ax=axs[0][0])\n",
    "sns.countplot(df['Segment'],ax=axs[0][1])\n",
    "sns.countplot(df['Ship Mode'],ax=axs[1][0])\n",
    "sns.countplot(df['Region'],ax=axs[1][1])\n",
    "axs[0][0].set_title('Category',fontsize=20)\n",
    "axs[0][1].set_title('Segment',fontsize=20)\n",
    "axs[1][0].set_title('Ship Mode',fontsize=20)\n",
    "axs[1][1].set_title('Region',fontsize=20)\n",
    "\n",
    "plt.tight_layout()"
   ]
  },
  {
   "cell_type": "markdown",
   "id": "b8ecb00e",
   "metadata": {},
   "source": [
    "That’s great! You are doing good. It is as simple as that. Though EDA has two approaches, a blend of graphical and non-graphical will give you the bigger picture altogether."
   ]
  },
  {
   "cell_type": "markdown",
   "id": "ee89e809",
   "metadata": {},
   "source": [
    "#  Correlation Plot - EDA\n",
    "\n",
    "Finally, to find the correlation among the variables, we can make use of the correlation function. This will give you a fair idea of the correlation strength between different variables."
   ]
  },
  {
   "cell_type": "code",
   "execution_count": 12,
   "id": "4c80c1fe",
   "metadata": {},
   "outputs": [
    {
     "data": {
      "text/html": [
       "<div>\n",
       "<style scoped>\n",
       "    .dataframe tbody tr th:only-of-type {\n",
       "        vertical-align: middle;\n",
       "    }\n",
       "\n",
       "    .dataframe tbody tr th {\n",
       "        vertical-align: top;\n",
       "    }\n",
       "\n",
       "    .dataframe thead th {\n",
       "        text-align: right;\n",
       "    }\n",
       "</style>\n",
       "<table border=\"1\" class=\"dataframe\">\n",
       "  <thead>\n",
       "    <tr style=\"text-align: right;\">\n",
       "      <th></th>\n",
       "      <th>Sales</th>\n",
       "      <th>Quantity</th>\n",
       "      <th>Discount</th>\n",
       "      <th>Profit</th>\n",
       "    </tr>\n",
       "  </thead>\n",
       "  <tbody>\n",
       "    <tr>\n",
       "      <th>Sales</th>\n",
       "      <td>1.000000</td>\n",
       "      <td>0.200722</td>\n",
       "      <td>-0.028311</td>\n",
       "      <td>0.479067</td>\n",
       "    </tr>\n",
       "    <tr>\n",
       "      <th>Quantity</th>\n",
       "      <td>0.200722</td>\n",
       "      <td>1.000000</td>\n",
       "      <td>0.008678</td>\n",
       "      <td>0.066211</td>\n",
       "    </tr>\n",
       "    <tr>\n",
       "      <th>Discount</th>\n",
       "      <td>-0.028311</td>\n",
       "      <td>0.008678</td>\n",
       "      <td>1.000000</td>\n",
       "      <td>-0.219662</td>\n",
       "    </tr>\n",
       "    <tr>\n",
       "      <th>Profit</th>\n",
       "      <td>0.479067</td>\n",
       "      <td>0.066211</td>\n",
       "      <td>-0.219662</td>\n",
       "      <td>1.000000</td>\n",
       "    </tr>\n",
       "  </tbody>\n",
       "</table>\n",
       "</div>"
      ],
      "text/plain": [
       "             Sales  Quantity  Discount    Profit\n",
       "Sales     1.000000  0.200722 -0.028311  0.479067\n",
       "Quantity  0.200722  1.000000  0.008678  0.066211\n",
       "Discount -0.028311  0.008678  1.000000 -0.219662\n",
       "Profit    0.479067  0.066211 -0.219662  1.000000"
      ]
     },
     "execution_count": 12,
     "metadata": {},
     "output_type": "execute_result"
    }
   ],
   "source": [
    "#Correlation \n",
    "\n",
    "df.corr()"
   ]
  },
  {
   "cell_type": "markdown",
   "id": "d931ae3e",
   "metadata": {},
   "source": [
    "This is the correlation matrix with the range from +1 to -1 where +1 is highly and positively correlated and -1 will be highly negatively correlated.\n",
    "\n",
    "You can even visualize the correlation matrix using seaborn library as shown below."
   ]
  },
  {
   "cell_type": "code",
   "execution_count": 13,
   "id": "c24d4f6b",
   "metadata": {},
   "outputs": [
    {
     "data": {
      "text/plain": [
       "<AxesSubplot:>"
      ]
     },
     "execution_count": 13,
     "metadata": {},
     "output_type": "execute_result"
    },
    {
     "data": {
      "image/png": "[encoded data removed]",
      "text/plain": [
       "<Figure size 640x480 with 2 Axes>"
      ]
     },
     "metadata": {},
     "output_type": "display_data"
    }
   ],
   "source": [
    "#Correlation plot\n",
    "\n",
    "sns.heatmap(df.corr(),cmap='rocket_r',annot=True)"
   ]
  },
  {
   "cell_type": "markdown",
   "id": "a4a5ea24",
   "metadata": {},
   "source": [
    "From above heatmap :\n",
    "\n",
    "Sales and profit are moderately correlated.\n",
    "Discount and Profit are negatively correlated.\n",
    "Quantity and Profit are less moderately correlated"
   ]
  },
  {
   "cell_type": "code",
   "execution_count": 14,
   "id": "1795fa05",
   "metadata": {},
   "outputs": [
    {
     "data": {
      "text/plain": [
       "<matplotlib.legend.Legend at 0x15a2391b910>"
      ]
     },
     "execution_count": 14,
     "metadata": {},
     "output_type": "execute_result"
    },
    {
     "data": {
      "image/png": "[encoded data removed]",
      "text/plain": [
       "<Figure size 800x500 with 1 Axes>"
      ]
     },
     "metadata": {},
     "output_type": "display_data"
    }
   ],
   "source": [
    "plt.figure(figsize=(8,5))\n",
    "sns.kdeplot(df['Sales'],color='red',label='Sales',shade=True,bw=25)\n",
    "sns.kdeplot(df['Profit'],color='yellow',label='Profit',shade=True,bw=25)\n",
    "plt.xlim([-100,1000])\n",
    "plt.legend()\n"
   ]
  },
  {
   "cell_type": "markdown",
   "id": "bd24416a",
   "metadata": {},
   "source": [
    "Profit is more than that of sale but there are some areas where profit could be increased."
   ]
  },
  {
   "cell_type": "markdown",
   "id": "e0ecdabf",
   "metadata": {},
   "source": [
    "# Analysis using Pairplot of each column\n",
    "## 1. Based on Category"
   ]
  },
  {
   "cell_type": "code",
   "execution_count": null,
   "id": "943d7d99",
   "metadata": {},
   "outputs": [
    {
     "data": {
      "text/plain": [
       "<seaborn.axisgrid.PairGrid at 0x15a23be47f0>"
      ]
     },
     "execution_count": 15,
     "metadata": {},
     "output_type": "execute_result"
    }
   ],
   "source": [
    "sns.pairplot(df,hue='Category')"
   ]
  },
  {
   "cell_type": "markdown",
   "id": "eb4a02c8",
   "metadata": {},
   "source": [
    "## 2. Based on Ship Mode"
   ]
  },
  {
   "cell_type": "code",
   "execution_count": null,
   "id": "edb5f456",
   "metadata": {},
   "outputs": [],
   "source": [
    "sns.pairplot(df,hue='Ship Mode',palette='Blues')"
   ]
  },
  {
   "cell_type": "markdown",
   "id": "0c23afa1",
   "metadata": {},
   "source": [
    "## 3. Based on Region"
   ]
  },
  {
   "cell_type": "code",
   "execution_count": null,
   "id": "9d4a8fbf",
   "metadata": {},
   "outputs": [],
   "source": [
    "sns.pairplot(df,hue='Region')"
   ]
  },
  {
   "cell_type": "markdown",
   "id": "937b3497",
   "metadata": {},
   "source": [
    "# Distribution of the data"
   ]
  },
  {
   "cell_type": "code",
   "execution_count": null,
   "id": "92d8b1e4",
   "metadata": {},
   "outputs": [],
   "source": [
    "#set figure size and create subplots\n",
    "fig , axs = plt.subplots(ncols=2,nrows=2,figsize=(10,10))\n",
    "#Create distribution plots for each variable\n",
    "sns.distplot(df['Sales'],color='blue',ax= axs[0][0])\n",
    "sns.distplot(df['Profit'],color='orange',ax=axs[0][1])\n",
    "sns.distplot(df['Quantity'],color='green',ax=axs[1][0])\n",
    "sns.distplot(df['Discount'],color='red',ax=axs[1][1])\n",
    "#Set titles for each subplot\n",
    "axs[0][0].set_title('Sales Distribution',fontsize=21)\n",
    "axs[0][1].set_title('Profit Distribution',fontsize=21)\n",
    "axs[1][0].set_title('Quantity Distribution',fontsize=21)\n",
    "axs[1][1].set_title('Discount Distribution',fontsize=21)\n",
    "#Show the plot\n",
    "plt.show"
   ]
  },
  {
   "cell_type": "markdown",
   "id": "d329896f",
   "metadata": {},
   "source": [
    "# Segment wise analysis on Profit, Discount, Sales, Quantity"
   ]
  },
  {
   "cell_type": "code",
   "execution_count": null,
   "id": "53afcee7",
   "metadata": {},
   "outputs": [],
   "source": [
    "# Group data by segment\n",
    "segment_groups = df.groupby('Segment')\n",
    "\n",
    "# Calculate mean profit, discount, sales, and quantity for each segment\n",
    "profit_mean = segment_groups['Profit'].mean()\n",
    "discount_mean = segment_groups['Discount'].mean()\n",
    "sales_mean = segment_groups['Sales'].mean()\n",
    "quantity_mean = segment_groups['Quantity'].mean()\n",
    "\n",
    "# Plot the results\n",
    "fig, axs = plt.subplots(nrows=2, ncols=2, figsize=(10, 8))\n",
    "\n",
    "sns.barplot(x='Segment', y='Sales', data=df, ax=axs[0][0])\n",
    "sns.barplot(x='Segment', y='Profit', data=df, ax=axs[0][1])\n",
    "sns.barplot(x='Segment', y='Discount', data=df, ax=axs[1][0])\n",
    "sns.barplot(x='Segment', y='Quantity', data=df, ax=axs[1][1])\n",
    "\n",
    "axs[0][0].set_title('Sales by Segment')\n",
    "axs[0][1].set_title('Profit by Segment')\n",
    "axs[1][0].set_title('Discount by Segment')\n",
    "axs[1][1].set_title('Quantity by Segment')\n",
    "\n",
    "plt.tight_layout()\n",
    "plt.show()\n"
   ]
  },
  {
   "cell_type": "markdown",
   "id": "1c2d9776",
   "metadata": {},
   "source": [
    "    The highest sales are generated by the Home Office segment, accounting for above 230 of the total sales, followed by Corporate segment and Consumer segment.\n",
    "    The Home Office segment receives the highest profit margin at 37, followed by the Corporate segment at 33, and the Consumer segment at 28.\n",
    "    The Home Office segment also receives the lowest average discount at 0.14, followed by both the Consumer and Corporate segments at 0.15.\n",
    "\n"
   ]
  },
  {
   "cell_type": "markdown",
   "id": "a0341d1c",
   "metadata": {},
   "source": [
    "# State-wise Analysis"
   ]
  },
  {
   "cell_type": "code",
   "execution_count": null,
   "id": "94571ff2",
   "metadata": {},
   "outputs": [],
   "source": [
    "# Group data by state\n",
    "state_data = df.groupby(['State']).agg({'Profit': 'sum', 'Discount': 'mean', 'Sales': 'sum'}).reset_index()\n",
    "\n",
    "# Sort data by profit in descending order\n",
    "state_data = state_data.sort_values('Profit')\n",
    "\n",
    "# Plot state-wise analysis of profit, discount, and sales\n",
    "fig, axs = plt.subplots(ncols=3, figsize=(15,15))\n",
    "sns.barplot(x='Profit', y='State', data=state_data, ax=axs[0])\n",
    "sns.barplot(x='Discount', y='State', data=state_data, ax=axs[1])\n",
    "sns.barplot(x='Sales', y='State', data=state_data, ax=axs[2])\n",
    "axs[0].set_title('State-wise Profit Analysis', fontsize=14)\n",
    "axs[1].set_title('State-wise Discount Analysis', fontsize=14)\n",
    "axs[2].set_title('State-wise Sales Analysis', fontsize=14)\n",
    "plt.tight_layout()\n",
    "plt.show()\n"
   ]
  },
  {
   "cell_type": "markdown",
   "id": "4d42a378",
   "metadata": {},
   "source": [
    "CALIFORNIA shows highest profit and TEXAS shows lowest.\n",
    "Likewise CALIFORNIA shows highest sales and WYOMING shows the lowest.\n",
    "According to discount ILLINOIS shows the highest."
   ]
  },
  {
   "cell_type": "code",
   "execution_count": null,
   "id": "f46e85f5",
   "metadata": {},
   "outputs": [],
   "source": [
    "sns.set_style('whitegrid')\n",
    "\n",
    "category_data = df.groupby('Category')[['Profit', 'Sales', 'Discount','Quantity']].mean().reset_index()\n",
    "\n",
    "fig, ax = plt.subplots(figsize=(8, 6))\n",
    "\n",
    "sns.barplot(x='Category', y='value', hue='variable', \n",
    "            data=pd.melt(category_data, id_vars=['Category']), \n",
    "            palette='pastel', ax=ax)\n",
    "\n",
    "ax.set_xlabel('Category', fontsize=12)\n",
    "ax.set_ylabel('Value', fontsize=12)\n",
    "ax.set_title('Category-wise Analysis', fontsize=14)\n",
    "\n",
    "plt.show()\n"
   ]
  },
  {
   "cell_type": "markdown",
   "id": "683d0d53",
   "metadata": {},
   "source": [
    "Maximum sales and profit is obtained in TECHNOLOGY.\n",
    "Minimum profit obtained in FURNITURE."
   ]
  },
  {
   "cell_type": "code",
   "execution_count": null,
   "id": "81733887",
   "metadata": {},
   "outputs": [],
   "source": [
    "# Create a pivot table with region as rows and columns for profit, sales, discount, and quantity\n",
    "pivot = pd.pivot_table(df, index='Region', values=['Profit', 'Sales', 'Discount', 'Quantity'], aggfunc='sum')\n",
    "\n",
    "# Plot a pie chart for each column\n",
    "columns = ['Profit', 'Sales', 'Discount', 'Quantity']\n",
    "colors = ['blue', 'green', 'red', 'orange']\n",
    "\n",
    "for i, col in enumerate(columns):\n",
    "    plt.figure(i)\n",
    "    plt.pie(pivot[col], labels=pivot.index, colors=colors, autopct='%1.1f%%', startangle=90)\n",
    "    plt.title(f'{col} by Region')\n",
    "\n",
    "plt.show()\n"
   ]
  },
  {
   "cell_type": "markdown",
   "id": "c2ca5935",
   "metadata": {},
   "source": [
    "Acoording to Profit WEST is highest with 37.8% and Central is lowest with 13.9%.\n",
    "According to Sales WEST is highest with 31.6% and SOUTH is lowest with 17.1%.\n",
    "According to Discount CENTRAL is highest with 35.7% and South is lowest with 15.3%.\n",
    "According to Quantity WEST region is highest with 32.3% and SOUTH is lowest with 16.4%."
   ]
  },
  {
   "cell_type": "code",
   "execution_count": null,
   "id": "506b622b",
   "metadata": {},
   "outputs": [],
   "source": [
    "# Create a pivot table with sub-category as rows and columns for profit, sales, discount, and quantity\n",
    "pivot = pd.pivot_table(df, index='Sub-Category', values=['Profit', 'Sales', 'Discount', 'Quantity'], aggfunc='sum')\n",
    "\n",
    "# Sort the pivot table by profit in descending order\n",
    "pivot = pivot.sort_values(by='Profit', ascending=False)\n",
    "\n",
    "# Print the pivot table\n",
    "print(pivot)\n"
   ]
  },
  {
   "cell_type": "code",
   "execution_count": null,
   "id": "6e51a57b",
   "metadata": {},
   "outputs": [],
   "source": [
    "# Create a bar chart\n",
    "plt.bar(pivot.index, pivot['Profit'])\n",
    "plt.xticks(rotation=90)\n",
    "plt.title('Sub-Category-wise Profits')\n",
    "plt.xlabel('Sub-Category')\n",
    "plt.ylabel('Profit')\n",
    "plt.show()"
   ]
  },
  {
   "cell_type": "markdown",
   "id": "34db56b8",
   "metadata": {},
   "source": [
    "Based on sub-category wise profit COPIERS are the highest with 55671 and TABLES are the least -17725.4811 "
   ]
  },
  {
   "cell_type": "code",
   "execution_count": null,
   "id": "5980ca03",
   "metadata": {},
   "outputs": [],
   "source": [
    "# Create a bar chart\n",
    "plt.bar(pivot.index, pivot['Sales'])\n",
    "plt.xticks(rotation=90)\n",
    "plt.title('Sub-Category-wise Sales')\n",
    "plt.xlabel('Sub-Category')\n",
    "plt.ylabel('Sales')\n",
    "\n",
    "plt.show()"
   ]
  },
  {
   "cell_type": "markdown",
   "id": "700078ce",
   "metadata": {},
   "source": [
    "Based on sub-category wise sales analysis, where PHONES has the highest sale and FASTNERS has the lowest sale."
   ]
  },
  {
   "cell_type": "code",
   "execution_count": null,
   "id": "6e8e1778",
   "metadata": {},
   "outputs": [],
   "source": [
    "# Create a bar chart\n",
    "plt.bar(pivot.index, pivot['Discount'])\n",
    "plt.xticks(rotation=90)\n",
    "plt.title('Sub-Category-wise Discount')\n",
    "plt.xlabel('Sub-Category')\n",
    "plt.ylabel('Discount')\n",
    "\n",
    "plt.show()"
   ]
  },
  {
   "cell_type": "markdown",
   "id": "7654770e",
   "metadata": {},
   "source": [
    "Based on sub- category wise discount analysis BLINDERS are the highest."
   ]
  },
  {
   "cell_type": "code",
   "execution_count": null,
   "id": "74318ef6",
   "metadata": {},
   "outputs": [],
   "source": [
    "# Create a bar chart\n",
    "plt.bar(pivot.index, pivot['Quantity'])\n",
    "plt.xticks(rotation=90)\n",
    "plt.title('Sub-Category-wise Quantity')\n",
    "plt.xlabel('Sub-Category')\n",
    "plt.ylabel('Quantity')\n",
    "\n",
    "plt.show()"
   ]
  },
  {
   "cell_type": "markdown",
   "id": "5073df50",
   "metadata": {},
   "source": [
    "Based on sub-category quantity analysis BINDERS are the highset with 5971  and COPIERS are the lowest with 234. "
   ]
  },
  {
   "cell_type": "markdown",
   "id": "14a3cc99",
   "metadata": {},
   "source": [
    "# Data- driven Insights\n",
    "\n",
    "\n",
    "1.The moderate correlation between sales and profit indicates that as sales increase, there is a tendency for profit to increase as well. However, this relationship may not be linear and can vary based on factors such as industry, competition, and pricing strategies.\n",
    "\n",
    "The negative correlation between discount and profit suggests that as discounts increase, there is a tendency for profit to decrease. This highlights the importance of carefully managing discounting strategies to balance short-term sales goals with long-term profitability.\n",
    "\n",
    "2.The business is making a profit, which is a positive sign.Even though profit is higher than sales, it is important to ensure that the business is generating enough revenue to cover its expenses and remain sustainable in the long run.\n",
    "Profit margins vary by industry and business model, so it is important to benchmark against competitors and industry standards to identify areas for improvement.\n",
    "\n",
    "3.Based on the distribution analysis, the insights are     \n",
    "Profit: Range and variability of profit margins reveal areas for improvement.\n",
    "Sales: Range and variability of revenue generated highlight top-performing products or categories.\n",
    "Discount: Distribution of discounts informs impact on sales and profit magins.\n",
    "Quantity: Range and variability of product volume sold identify high-demand products.\n",
    "\n",
    "4.Home Office segment is the top-performing segment in terms of both sales and profit margin.\n",
    "Corporate and Consumer segments also contribute significantly to the total sales.\n",
    "The Home Office segment enjoys the highest profit margin among all segments, indicating better pricing strategies or cost control.\n",
    "All segments have a relatively low average discount, suggesting a potential opportunity for implementing targeted discount strategies to increase sales. The Home Office segment has the lowest average discount, indicating a higher willingness of customers to pay for the products.\n",
    "\n",
    "5.California is the top-performing state in terms of both sales and profit margin.\n",
    "Texas is the worst-performing state in terms of profit margin and sales.\n",
    "Wyoming is the worst-performing state in terms of sales but its profit margin is not provided.\n",
    "Illinois has the highest average discount, which may indicate the need to adjust pricing strategies or offer targeted promotions.\n",
    "Understanding regional performance differences can help in identifying opportunities for growth and improving profitability.\n",
    "\n",
    "6.The technology category generates the highest sales and profits among all categories. \n",
    "The furniture category generates the lowest profit margin among all categories.\n",
    "There may be opportunities to optimize the pricing or product mix of the furniture category to increase profitability.\n",
    "Focusing on the technology category can help to maximize sales and profits.\n",
    "\n",
    "7.The West region has the highest profit margin among all regions, while the Central region has the lowest profit margin. This suggests that there may be opportunities to optimize profitability in the Central region.\n",
    "The West region has the highest sales among all regions, while the South region has the lowest sales. This could indicate potential market opportunities in the South region.\n",
    "The Central region has the highest average discount among all regions, suggesting that there may be opportunities to optimize pricing strategies to increase profitability in this region.\n",
    "The West region has the highest quantity sold among all regions, while the South region has the lowest quantity sold. This could indicate potential market opportunities for increasing sales in the South region.\n",
    "\n",
    "8.The company should focus more on selling COPIERS as they generate the highest profit compared to other sub-categories.\n",
    "PHONES are the highest selling sub-category, so the company should try to increase their sales even more.\n",
    "The company is giving more discount on BLINDERS as compared to other sub-categories, which may affect the overall profit margin.\n",
    "The company should look into increasing the quantity sold for the COPIERS sub-category as they have the lowest quantity sold compared to other sub-categories.\n",
    "\n",
    "\n",
    "\n",
    "\n",
    "\n"
   ]
  },
  {
   "cell_type": "markdown",
   "id": "db54b44b",
   "metadata": {},
   "source": [
    "# Conclusion\n",
    "\n",
    "Based on the analysis of the data, it can be concluded that there are several factors that influence the sales and profitability of the company. The Home Office segment generates the highest sales and profit margin, while the Consumer segment generates the lowest profit margin. Sales and profit are moderately correlated, and discount and profit are negatively correlated. The California region generates the highest profit and sales, while Texas and Wyoming have the lowest profit and sales, respectively. The Technology sub-category has the highest profit and sales, while Furniture has the lowest profit. Overall, it is important for the company to focus on improving profitability in regions and categories that are underperforming and to continue to optimize discount strategies to maximize profitability."
   ]
  },
  {
   "cell_type": "code",
   "execution_count": null,
   "id": "b2550104",
   "metadata": {},
   "outputs": [],
   "source": []
  }
 ],
 "metadata": {
  "kernelspec": {
   "display_name": "Python 3 (ipykernel)",
   "language": "python",
   "name": "python3"
  },
  "language_info": {
   "codemirror_mode": {
    "name": "ipython",
    "version": 3
   },
   "file_extension": ".py",
   "mimetype": "text/x-python",
   "name": "python",
   "nbconvert_exporter": "python",
   "pygments_lexer": "ipython3",
   "version": "3.9.13"
  }
 },
 "nbformat": 4,
 "nbformat_minor": 5
}
